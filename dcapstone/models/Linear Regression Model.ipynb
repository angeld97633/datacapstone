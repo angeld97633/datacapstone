{
 "cells": [
  {
   "cell_type": "markdown",
   "id": "23d7f0e5",
   "metadata": {},
   "source": [
    "### Importing Data"
   ]
  },
  {
   "cell_type": "code",
   "execution_count": 1,
   "id": "fcce7308",
   "metadata": {},
   "outputs": [],
   "source": [
    "import pandas as pd\n",
    "import numpy as np\n",
    "import sklearn\n",
    "import numpy as np\n",
    "from sklearn.linear_model import LinearRegression\n",
    "import seaborn as sns\n",
    "from sklearn.metrics import r2_score\n",
    "from sklearn.model_selection import train_test_split\n",
    "from sklearn.metrics import mean_absolute_error\n",
    "from sklearn.metrics import mean_squared_error "
   ]
  },
  {
   "cell_type": "code",
   "execution_count": 2,
   "id": "29c54475",
   "metadata": {},
   "outputs": [
    {
     "name": "stdout",
     "output_type": "stream",
     "text": [
      "/Users/angeldurrani/Documents/GitHub/datacapstone/dcapstone/data/raw\n"
     ]
    }
   ],
   "source": [
    "cd /Users/angeldurrani/Documents/GitHub/datacapstone/dcapstone/data/raw"
   ]
  },
  {
   "cell_type": "code",
   "execution_count": 3,
   "id": "3857a3bc",
   "metadata": {},
   "outputs": [],
   "source": [
    "data = pd.read_csv(\"online_store_customer_data.csv\")"
   ]
  },
  {
   "cell_type": "markdown",
   "id": "6e8ac65f",
   "metadata": {},
   "source": [
    "### Data Prep"
   ]
  },
  {
   "cell_type": "code",
   "execution_count": 4,
   "id": "f81c57ec",
   "metadata": {},
   "outputs": [
    {
     "data": {
      "text/plain": [
       "Transaction_date    0\n",
       "Transaction_ID      0\n",
       "Age                 0\n",
       "Marital_status      0\n",
       "State_names         0\n",
       "Segment             0\n",
       "Employees_status    0\n",
       "Payment_method      0\n",
       "Referal             0\n",
       "Amount_spent        0\n",
       "Gender F=1,M=0      0\n",
       "dtype: int64"
      ]
     },
     "execution_count": 4,
     "metadata": {},
     "output_type": "execute_result"
    }
   ],
   "source": [
    "data = data.dropna()\n",
    "gen_dumm = pd.get_dummies(data['Gender'])\n",
    "gen_dumm[\"Female\"] \n",
    "data = pd.concat([data,gen_dumm[\"Female\"]],axis=1)\n",
    "data = data.drop([\"Gender\"],axis=1)\n",
    "data.rename(columns = {'Female':'Gender F=1,M=0'}, inplace = True)\n",
    "dataNull = data.isnull()\n",
    "dataNull.sum()"
   ]
  },
  {
   "cell_type": "markdown",
   "id": "63fe1ebb",
   "metadata": {},
   "source": [
    "# Linear Regression Model for Age "
   ]
  },
  {
   "cell_type": "code",
   "execution_count": 5,
   "id": "843fdf90",
   "metadata": {},
   "outputs": [
    {
     "name": "stdout",
     "output_type": "stream",
     "text": [
      "coefficient of determination: -0.00028988496801085617\n",
      "intercept: [0.01720235]\n",
      "slope: [[-0.03019649]]\n",
      "r-squared:  -0.011575933301379626\n",
      "MAE:  0.8526827699394117\n",
      "MSE:  0.9787307221320298\n"
     ]
    }
   ],
   "source": [
    "from sklearn.preprocessing import StandardScaler\n",
    "scaler = StandardScaler()\n",
    "\n",
    "x = data[\"Age\"]\n",
    "y = data [\"Amount_spent\"]\n",
    "y = scaler.fit_transform(pd.DataFrame(y))\n",
    "x = scaler.fit_transform(pd.DataFrame(x))\n",
    "\n",
    "\n",
    "from sklearn.model_selection import train_test_split\n",
    "x_train, x_test, y_train, y_test = train_test_split(x, y, test_size= 0.2, random_state=0)\n",
    "\n",
    "from sklearn.linear_model import LinearRegression\n",
    "\n",
    "regressor = LinearRegression()\n",
    "regressor.fit(x_train,y_train)\n",
    "\n",
    "y_pred = regressor.predict(x_test)\n",
    "\n",
    "r_sq = regressor.score(x, y)\n",
    "print('coefficient of determination:', r_sq)\n",
    "print('intercept:', regressor.intercept_)\n",
    "print('slope:', regressor.coef_) \n",
    "\n",
    "from sklearn.metrics import r2_score\n",
    "r2 = r2_score(y_test,y_pred)\n",
    "print(\"r-squared: \",r2)\n",
    "from sklearn.metrics import mean_absolute_error\n",
    "print(\"MAE: \",mean_absolute_error(y_test,y_pred))\n",
    "from sklearn.metrics import mean_squared_error\n",
    "print(\"MSE: \",mean_squared_error(y_test,y_pred))"
   ]
  },
  {
   "cell_type": "markdown",
   "id": "f8ce30fa",
   "metadata": {},
   "source": [
    "# Linear Regression for Gender"
   ]
  },
  {
   "cell_type": "code",
   "execution_count": 6,
   "id": "8bf88404",
   "metadata": {},
   "outputs": [
    {
     "name": "stdout",
     "output_type": "stream",
     "text": [
      "coefficient of determination: -0.00038481252205979644\n",
      "intercept: [0.01749458]\n",
      "slope: [[-0.00738706]]\n",
      "r-squared:  -0.00852681351546103\n",
      "MAE:  0.8515045848211299\n",
      "MSE:  0.9757806052780238\n"
     ]
    }
   ],
   "source": [
    "x1 = data[\"Gender F=1,M=0\"]\n",
    "y1 = data [\"Amount_spent\"]\n",
    "y1 = scaler.fit_transform(pd.DataFrame(y1))\n",
    "x1 = scaler.fit_transform(pd.DataFrame(x1))\n",
    "\n",
    "\n",
    "x1_train, x1_test, y1_train, y1_test = train_test_split(x1, y1, test_size= 0.2, random_state=0)\n",
    "\n",
    "\n",
    "regressor = LinearRegression()\n",
    "regressor.fit(x1_train,y1_train)\n",
    "\n",
    "y1_pred = regressor.predict(x1_test)\n",
    "\n",
    "r_sq = regressor.score(x1, y1)\n",
    "print('coefficient of determination:', r_sq)\n",
    "print('intercept:', regressor.intercept_)\n",
    "print('slope:', regressor.coef_) \n",
    "\n",
    "r2 = r2_score(y1_test,y1_pred)\n",
    "print(\"r-squared: \",r2)\n",
    "print(\"MAE: \",mean_absolute_error(y1_test,y1_pred))\n",
    "print(\"MSE: \",mean_squared_error(y1_test,y1_pred))"
   ]
  },
  {
   "cell_type": "code",
   "execution_count": null,
   "id": "8abcab45",
   "metadata": {},
   "outputs": [],
   "source": []
  }
 ],
 "metadata": {
  "kernelspec": {
   "display_name": "Python 3 (ipykernel)",
   "language": "python",
   "name": "python3"
  },
  "language_info": {
   "codemirror_mode": {
    "name": "ipython",
    "version": 3
   },
   "file_extension": ".py",
   "mimetype": "text/x-python",
   "name": "python",
   "nbconvert_exporter": "python",
   "pygments_lexer": "ipython3",
   "version": "3.9.7"
  }
 },
 "nbformat": 4,
 "nbformat_minor": 5
}
