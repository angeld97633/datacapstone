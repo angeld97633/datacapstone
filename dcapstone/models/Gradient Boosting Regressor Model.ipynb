{
 "cells": [
  {
   "cell_type": "markdown",
   "id": "91c8adea",
   "metadata": {},
   "source": [
    "### Importing Libraries and Data"
   ]
  },
  {
   "cell_type": "code",
   "execution_count": 1,
   "id": "70cd1f8e",
   "metadata": {},
   "outputs": [],
   "source": [
    "import pandas as pd\n",
    "import numpy as np\n",
    "import sklearn\n",
    "from sklearn.metrics import r2_score\n",
    "from sklearn.preprocessing import StandardScaler\n",
    "scaler = StandardScaler()\n",
    "from sklearn.model_selection import train_test_split\n",
    "from sklearn.ensemble import GradientBoostingRegressor\n",
    "from sklearn.metrics import mean_squared_error, r2_score, mean_absolute_error\n"
   ]
  },
  {
   "cell_type": "code",
   "execution_count": 2,
   "id": "8f084970",
   "metadata": {},
   "outputs": [
    {
     "name": "stdout",
     "output_type": "stream",
     "text": [
      "/Users/angeldurrani/Documents/GitHub/datacapstone/dcapstone/data/raw\n"
     ]
    }
   ],
   "source": [
    "cd /Users/angeldurrani/Documents/GitHub/datacapstone/dcapstone/data/raw"
   ]
  },
  {
   "cell_type": "code",
   "execution_count": 3,
   "id": "eea9e6fb",
   "metadata": {},
   "outputs": [],
   "source": [
    "data = pd.read_csv(\"online_store_customer_data.csv\")"
   ]
  },
  {
   "cell_type": "markdown",
   "id": "33e168f7",
   "metadata": {},
   "source": [
    "### Data Prep"
   ]
  },
  {
   "cell_type": "code",
   "execution_count": 4,
   "id": "53743536",
   "metadata": {},
   "outputs": [
    {
     "data": {
      "text/plain": [
       "Transaction_date    0\n",
       "Transaction_ID      0\n",
       "Age                 0\n",
       "Marital_status      0\n",
       "State_names         0\n",
       "Segment             0\n",
       "Employees_status    0\n",
       "Payment_method      0\n",
       "Referal             0\n",
       "Amount_spent        0\n",
       "Gender F=1,M=0      0\n",
       "dtype: int64"
      ]
     },
     "execution_count": 4,
     "metadata": {},
     "output_type": "execute_result"
    }
   ],
   "source": [
    "data = data.dropna()\n",
    "gen_dumm = pd.get_dummies(data['Gender'])\n",
    "gen_dumm[\"Female\"] \n",
    "data = pd.concat([data,gen_dumm[\"Female\"]],axis=1)\n",
    "data = data.drop([\"Gender\"],axis=1)\n",
    "data.rename(columns = {'Female':'Gender F=1,M=0'}, inplace = True)\n",
    "dataNull = data.isnull()\n",
    "dataNull.sum()"
   ]
  },
  {
   "cell_type": "markdown",
   "id": "f5dfe30a",
   "metadata": {},
   "source": [
    "# Gradient Boosting Regressor Model for Age"
   ]
  },
  {
   "cell_type": "code",
   "execution_count": 5,
   "id": "11d505a9",
   "metadata": {},
   "outputs": [
    {
     "name": "stderr",
     "output_type": "stream",
     "text": [
      "/Users/angeldurrani/opt/anaconda3/lib/python3.9/site-packages/sklearn/ensemble/_gb.py:437: DataConversionWarning: A column-vector y was passed when a 1d array was expected. Please change the shape of y to (n_samples, ), for example using ravel().\n",
      "  y = column_or_1d(y, warn=True)\n",
      "/Users/angeldurrani/opt/anaconda3/lib/python3.9/site-packages/sklearn/ensemble/_gb.py:437: DataConversionWarning: A column-vector y was passed when a 1d array was expected. Please change the shape of y to (n_samples, ), for example using ravel().\n",
      "  y = column_or_1d(y, warn=True)\n"
     ]
    },
    {
     "name": "stdout",
     "output_type": "stream",
     "text": [
      "Mean Absolute Error: 0.84\n",
      "Mean Squared Error: 0.99\n",
      "R-squared scores: -0.02\n"
     ]
    }
   ],
   "source": [
    "x4 = data[\"Age\"]\n",
    "y4 = data[\"Amount_spent\"]\n",
    "y4 = scaler.fit_transform(pd.DataFrame(y4))\n",
    "x4 = scaler.fit_transform(pd.DataFrame(x4))\n",
    "\n",
    "x4_train, x4_test, y4_train, y4_test = train_test_split(x4, y4, test_size=0.30, random_state=100)\n",
    "\n",
    "params = {\n",
    "    \"n_estimators\": 500,\n",
    "    \"max_depth\": 4,\n",
    "    \"min_samples_split\": 5,\n",
    "    \"learning_rate\": 0.01,\n",
    "    \"loss\": \"squared_error\",\n",
    "}\n",
    "\n",
    "\n",
    "model = GradientBoostingRegressor(**params)\n",
    "model.fit(x4_train, y4_train)\n",
    "                                  \n",
    "model.fit(x4_train,y4_train)\n",
    "y4_pred = model.predict(x4_test)\n",
    "\n",
    "\n",
    "mae = mean_absolute_error(y4_test.ravel(), y4_pred)\n",
    "mse = mean_squared_error(y4_test.ravel(), y4_pred)\n",
    "r2 = r2_score(y4_test.ravel(), y4_pred)\n",
    "\n",
    "print('Mean Absolute Error:', round(mae, 2))\n",
    "print('Mean Squared Error:', round(mse, 2))\n",
    "print('R-squared scores:', round(r2, 2))"
   ]
  },
  {
   "cell_type": "markdown",
   "id": "252dd44c",
   "metadata": {},
   "source": [
    "# Gradient Boosting Regressor Model for Gender"
   ]
  },
  {
   "cell_type": "code",
   "execution_count": 6,
   "id": "9ccf2d85",
   "metadata": {},
   "outputs": [
    {
     "name": "stderr",
     "output_type": "stream",
     "text": [
      "/Users/angeldurrani/opt/anaconda3/lib/python3.9/site-packages/sklearn/ensemble/_gb.py:437: DataConversionWarning: A column-vector y was passed when a 1d array was expected. Please change the shape of y to (n_samples, ), for example using ravel().\n",
      "  y = column_or_1d(y, warn=True)\n",
      "/Users/angeldurrani/opt/anaconda3/lib/python3.9/site-packages/sklearn/ensemble/_gb.py:437: DataConversionWarning: A column-vector y was passed when a 1d array was expected. Please change the shape of y to (n_samples, ), for example using ravel().\n",
      "  y = column_or_1d(y, warn=True)\n"
     ]
    },
    {
     "name": "stdout",
     "output_type": "stream",
     "text": [
      "Mean Absolute Error: 0.83\n",
      "Mean Squared Error: 0.97\n",
      "R-squared scores: -0.0\n"
     ]
    }
   ],
   "source": [
    "x4 = data[\"Gender F=1,M=0\"]\n",
    "y4 = data[\"Amount_spent\"]\n",
    "y4 = scaler.fit_transform(pd.DataFrame(y4))\n",
    "x4 = scaler.fit_transform(pd.DataFrame(x4))\n",
    "\n",
    "x4_train, x4_test, y4_train, y4_test = train_test_split(x4, y4, test_size=0.30, random_state=100)\n",
    "\n",
    "params = {\n",
    "    \"n_estimators\": 500,\n",
    "    \"max_depth\": 4,\n",
    "    \"min_samples_split\": 5,\n",
    "    \"learning_rate\": 0.01,\n",
    "    \"loss\": \"squared_error\",\n",
    "}\n",
    "\n",
    "from sklearn.ensemble import GradientBoostingRegressor\n",
    "\n",
    "model = GradientBoostingRegressor(**params)\n",
    "model.fit(x4_train, y4_train)\n",
    "                                  \n",
    "model.fit(x4_train,y4_train)\n",
    "y4_pred = model.predict(x4_test)\n",
    "\n",
    "\n",
    "\n",
    "mae = mean_absolute_error(y4_test.ravel(), y4_pred)\n",
    "mse = mean_squared_error(y4_test.ravel(), y4_pred)\n",
    "r2 = r2_score(y4_test.ravel(), y4_pred)\n",
    "\n",
    "\n",
    "print('Mean Absolute Error:', round(mae, 2))\n",
    "print('Mean Squared Error:', round(mse, 2))\n",
    "print('R-squared scores:', round(r2, 2))"
   ]
  },
  {
   "cell_type": "code",
   "execution_count": null,
   "id": "0b24c891",
   "metadata": {},
   "outputs": [],
   "source": []
  }
 ],
 "metadata": {
  "kernelspec": {
   "display_name": "Python 3 (ipykernel)",
   "language": "python",
   "name": "python3"
  },
  "language_info": {
   "codemirror_mode": {
    "name": "ipython",
    "version": 3
   },
   "file_extension": ".py",
   "mimetype": "text/x-python",
   "name": "python",
   "nbconvert_exporter": "python",
   "pygments_lexer": "ipython3",
   "version": "3.9.7"
  }
 },
 "nbformat": 4,
 "nbformat_minor": 5
}
