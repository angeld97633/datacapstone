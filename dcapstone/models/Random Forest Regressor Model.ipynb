{
 "cells": [
  {
   "cell_type": "markdown",
   "id": "bb40ff51",
   "metadata": {},
   "source": [
    "### Importing Libraries and Data"
   ]
  },
  {
   "cell_type": "code",
   "execution_count": 1,
   "id": "4875a699",
   "metadata": {},
   "outputs": [],
   "source": [
    "import pandas as pd\n",
    "import numpy as np\n",
    "import sklearn\n",
    "from sklearn.metrics import r2_score\n",
    "from sklearn.preprocessing import StandardScaler\n",
    "scaler = StandardScaler()\n",
    "from sklearn.model_selection import train_test_split\n",
    "from sklearn.metrics import mean_squared_error, r2_score, mean_absolute_error\n",
    "from sklearn.ensemble import RandomForestRegressor\n"
   ]
  },
  {
   "cell_type": "code",
   "execution_count": 2,
   "id": "f4aee444",
   "metadata": {},
   "outputs": [
    {
     "name": "stdout",
     "output_type": "stream",
     "text": [
      "/Users/angeldurrani/Documents/GitHub/datacapstone/dcapstone/data/raw\n"
     ]
    }
   ],
   "source": [
    "cd /Users/angeldurrani/Documents/GitHub/datacapstone/dcapstone/data/raw"
   ]
  },
  {
   "cell_type": "code",
   "execution_count": 3,
   "id": "1ee194fc",
   "metadata": {},
   "outputs": [],
   "source": [
    "data = pd.read_csv(\"online_store_customer_data.csv\")"
   ]
  },
  {
   "cell_type": "markdown",
   "id": "a499c585",
   "metadata": {},
   "source": [
    "### Data Prep"
   ]
  },
  {
   "cell_type": "code",
   "execution_count": 4,
   "id": "b191a6f1",
   "metadata": {},
   "outputs": [
    {
     "data": {
      "text/plain": [
       "Transaction_date    0\n",
       "Transaction_ID      0\n",
       "Age                 0\n",
       "Marital_status      0\n",
       "State_names         0\n",
       "Segment             0\n",
       "Employees_status    0\n",
       "Payment_method      0\n",
       "Referal             0\n",
       "Amount_spent        0\n",
       "Gender F=1,M=0      0\n",
       "dtype: int64"
      ]
     },
     "execution_count": 4,
     "metadata": {},
     "output_type": "execute_result"
    }
   ],
   "source": [
    "data = data.dropna()\n",
    "gen_dumm = pd.get_dummies(data['Gender'])\n",
    "gen_dumm[\"Female\"] \n",
    "data = pd.concat([data,gen_dumm[\"Female\"]],axis=1)\n",
    "data = data.drop([\"Gender\"],axis=1)\n",
    "data.rename(columns = {'Female':'Gender F=1,M=0'}, inplace = True)\n",
    "dataNull = data.isnull()\n",
    "dataNull.sum()"
   ]
  },
  {
   "cell_type": "markdown",
   "id": "c39ebb00",
   "metadata": {},
   "source": [
    "# Random Forest Regressor Model for Age"
   ]
  },
  {
   "cell_type": "code",
   "execution_count": 5,
   "id": "ecaca1fe",
   "metadata": {},
   "outputs": [
    {
     "name": "stdout",
     "output_type": "stream",
     "text": [
      "Mean Absolute Error: 0.87\n",
      "Mean Squared Error: 1.04\n",
      "R-squared scores: -0.08\n"
     ]
    }
   ],
   "source": [
    "x2 = data[\"Age\"]\n",
    "y2 = data [\"Amount_spent\"]\n",
    "y2 = scaler.fit_transform(pd.DataFrame(y2))\n",
    "x2 = scaler.fit_transform(pd.DataFrame(x2))\n",
    "\n",
    "\n",
    "x2_train, x2_test, y2_train, y2_test = train_test_split(x2, y2, test_size = 0.25, random_state = 101)\n",
    "\n",
    "regr = RandomForestRegressor(n_estimators = 10, random_state = 101)\n",
    "regr.fit(x2_train, y2_train.ravel())\n",
    "\n",
    "predictions = regr.predict(x2_test)\n",
    "\n",
    "mae = mean_absolute_error(y2_test.ravel(), predictions)\n",
    "\n",
    "mse = mean_squared_error(y2_test.ravel(), predictions)\n",
    "\n",
    "r2 = r2_score(y2_test.ravel(), predictions)\n",
    "\n",
    "print('Mean Absolute Error:', round(mae, 2))\n",
    "print('Mean Squared Error:', round(mse, 2))\n",
    "print('R-squared scores:', round(r2, 2))"
   ]
  },
  {
   "cell_type": "markdown",
   "id": "d51042c0",
   "metadata": {},
   "source": [
    "# Random Forest Regressor Model for Age After Hyperparamter Tuning"
   ]
  },
  {
   "cell_type": "code",
   "execution_count": 6,
   "id": "60b0d63b",
   "metadata": {},
   "outputs": [
    {
     "name": "stdout",
     "output_type": "stream",
     "text": [
      "Mean Absolute Error: 0.86\n",
      "Mean Squared Error: 1.03\n",
      "R-squared scores: -0.06\n"
     ]
    }
   ],
   "source": [
    "params1 = {'n_estimators': 200,\n",
    " 'min_samples_split': 5,\n",
    " 'min_samples_leaf': 2,\n",
    " 'max_features': 'sqrt',\n",
    " 'max_depth': 10,\n",
    " 'bootstrap': True}\n",
    "regr2 = RandomForestRegressor(**params1)\n",
    "regr2.fit(x2_train, y2_train.ravel())\n",
    "\n",
    "predictions = regr2.predict(x2_test)\n",
    "\n",
    "mae = mean_absolute_error(y2_test.ravel(), predictions)\n",
    "\n",
    "mse = mean_squared_error(y2_test.ravel(), predictions)\n",
    "\n",
    "r2 = r2_score(y2_test.ravel(), predictions)\n",
    "\n",
    "print('Mean Absolute Error:', round(mae, 2))\n",
    "print('Mean Squared Error:', round(mse, 2))\n",
    "print('R-squared scores:', round(r2, 2))"
   ]
  },
  {
   "cell_type": "markdown",
   "id": "c6b2aa19",
   "metadata": {},
   "source": [
    "# Random Forest Regressor Model for Gender"
   ]
  },
  {
   "cell_type": "code",
   "execution_count": 7,
   "id": "3d8871a6",
   "metadata": {},
   "outputs": [
    {
     "name": "stdout",
     "output_type": "stream",
     "text": [
      "Mean Absolute Error: 0.84\n",
      "Mean Squared Error: 0.97\n",
      "R-squared scores: -0.0\n"
     ]
    }
   ],
   "source": [
    "x3 = data[\"Gender F=1,M=0\"]\n",
    "y3 = data [\"Amount_spent\"]\n",
    "y3 = scaler.fit_transform(pd.DataFrame(y3))\n",
    "x3 = scaler.fit_transform(pd.DataFrame(x3))\n",
    "\n",
    "\n",
    "x3_train, x3_test, y3_train, y3_test = train_test_split(x3, y3, test_size = 0.25, random_state = 101)\n",
    "\n",
    "regr1 = RandomForestRegressor(n_estimators = 10, random_state = 101)\n",
    "regr1.fit(x3_train, y3_train.ravel())\n",
    "\n",
    "predictions = regr1.predict(x2_test)\n",
    "\n",
    "mae = mean_absolute_error(y3_test.ravel(), predictions)\n",
    "mse = mean_squared_error(y3_test.ravel(), predictions)\n",
    "r2 = r2_score(y3_test.ravel(), predictions)\n",
    "\n",
    "print('Mean Absolute Error:', round(mae, 2))\n",
    "print('Mean Squared Error:', round(mse, 2))\n",
    "print('R-squared scores:', round(r2, 2))"
   ]
  },
  {
   "cell_type": "markdown",
   "id": "f685a03b",
   "metadata": {},
   "source": [
    "# Random Forest Regressor Model for Gender After Hyperparamter Tuning"
   ]
  },
  {
   "cell_type": "code",
   "execution_count": 8,
   "id": "a3eccd76",
   "metadata": {},
   "outputs": [
    {
     "name": "stdout",
     "output_type": "stream",
     "text": [
      "Mean Absolute Error: 0.84\n",
      "Mean Squared Error: 0.97\n",
      "R-squared scores: -0.0\n"
     ]
    }
   ],
   "source": [
    "params2 = {'n_estimators': 200,\n",
    " 'min_samples_split': 10,\n",
    " 'min_samples_leaf': 2,\n",
    " 'max_features': 'sqrt',\n",
    " 'max_depth': 50,\n",
    " 'bootstrap': True}\n",
    "regr3 = RandomForestRegressor(**params2)\n",
    "regr3.fit(x3_train, y3_train.ravel())\n",
    "from sklearn.metrics import mean_squared_error, r2_score, mean_absolute_error\n",
    "\n",
    "predictions = regr3.predict(x3_test)\n",
    "\n",
    "mae = mean_absolute_error(y3_test.ravel(), predictions)\n",
    "\n",
    "mse = mean_squared_error(y3_test.ravel(), predictions)\n",
    "\n",
    "r2 = r2_score(y3_test.ravel(), predictions)\n",
    "\n",
    "print('Mean Absolute Error:', round(mae, 2))\n",
    "print('Mean Squared Error:', round(mse, 2))\n",
    "print('R-squared scores:', round(r2, 2))"
   ]
  },
  {
   "cell_type": "code",
   "execution_count": null,
   "id": "61fc48fc",
   "metadata": {},
   "outputs": [],
   "source": []
  }
 ],
 "metadata": {
  "kernelspec": {
   "display_name": "Python 3 (ipykernel)",
   "language": "python",
   "name": "python3"
  },
  "language_info": {
   "codemirror_mode": {
    "name": "ipython",
    "version": 3
   },
   "file_extension": ".py",
   "mimetype": "text/x-python",
   "name": "python",
   "nbconvert_exporter": "python",
   "pygments_lexer": "ipython3",
   "version": "3.9.7"
  }
 },
 "nbformat": 4,
 "nbformat_minor": 5
}
